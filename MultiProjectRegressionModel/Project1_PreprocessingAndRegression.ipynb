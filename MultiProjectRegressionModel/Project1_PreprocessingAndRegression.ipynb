{
 "cells": [
  {
   "cell_type": "markdown",
   "id": "ef2d58a1",
   "metadata": {},
   "source": [
    "## Data preprocessing and regression model for a retail company where we recorded customer's country name, age, salary, and wether they bought the product or not\n",
    "Use sci-kit library's SimpleImputer and OneHotEncoder to do preprocessing of the data \\\n",
    "In the data set: Features are independent variable, dependent variable vector \\\n",
    "Dependent variable we would keep as the last coloumn \\\n",
    "We build the machine learning model using Linear and Polynomial regression method "
   ]
  },
  {
   "cell_type": "code",
   "execution_count": 22,
   "id": "abdf05b4",
   "metadata": {},
   "outputs": [],
   "source": [
    "#Step-1: Load python libraries\n",
    "import numpy as np           #for array\n",
    "import pandas as pd          #for panda dataframe to import data from CSV\n",
    "import matplotlib.pyplot as plt  #for plots "
   ]
  },
  {
   "cell_type": "code",
   "execution_count": 23,
   "id": "9e2351f0",
   "metadata": {},
   "outputs": [
    {
     "name": "stdout",
     "output_type": "stream",
     "text": [
      "Spain\n",
      "My output\n",
      "[['France' 44.0 72000.0]\n",
      " ['Spain' 27.0 48000.0]\n",
      " ['Germany' 30.0 54000.0]\n",
      " ['Spain' 38.0 61000.0]\n",
      " ['Germany' 40.0 nan]\n",
      " ['France' 35.0 58000.0]\n",
      " ['Spain' nan 52000.0]\n",
      " ['France' 48.0 79000.0]\n",
      " ['Germany' 50.0 83000.0]\n",
      " ['France' 37.0 67000.0]]\n",
      "['No' 'Yes' 'No' 'No' 'Yes' 'Yes' 'No' 'Yes' 'No' 'Yes']\n"
     ]
    }
   ],
   "source": [
    "#Step-2 import data sets from CSV file\n",
    "dataset = pd.read_csv(\"Project1_Data_PreprocessingAndRegression.csv\")\n",
    "X = dataset.iloc[:,0].values  #All rows but 1st coloumn\n",
    "X2 = dataset.iloc[:,1].values #All rows but 2nd coloumn\n",
    "X3 = dataset.iloc[:,2].values #All rows but 3rd coloumn\n",
    "XX = dataset.iloc[:,0:-1].values #All rows and all coloumn except last coloumn\n",
    "y = dataset.iloc[:,-1].values #All rows but the last coloumn\n",
    "print(XX[1][0])\n",
    "print(\"My output\")\n",
    "print(XX)\n",
    "print(y)"
   ]
  },
  {
   "cell_type": "code",
   "execution_count": 24,
   "id": "c63576e9",
   "metadata": {},
   "outputs": [
    {
     "name": "stdout",
     "output_type": "stream",
     "text": [
      "[['France' 44.0 72000.0]\n",
      " ['Spain' 27.0 48000.0]\n",
      " ['Germany' 30.0 54000.0]\n",
      " ['Spain' 38.0 61000.0]\n",
      " ['Germany' 40.0 nan]\n",
      " ['France' 35.0 58000.0]\n",
      " ['Spain' nan 52000.0]\n",
      " ['France' 48.0 79000.0]\n",
      " ['Germany' 50.0 83000.0]\n",
      " ['France' 37.0 67000.0]]\n",
      "[['France' 44.0 72000.0]\n",
      " ['Spain' 27.0 48000.0]\n",
      " ['Germany' 30.0 54000.0]\n",
      " ['Spain' 38.0 61000.0]\n",
      " ['Germany' 40.0 63777.77777777778]\n",
      " ['France' 35.0 58000.0]\n",
      " ['Spain' 38.77777777777778 52000.0]\n",
      " ['France' 48.0 79000.0]\n",
      " ['Germany' 50.0 83000.0]\n",
      " ['France' 37.0 67000.0]]\n",
      "[['France' 44.0 72000.0]\n",
      " ['Spain' 27.0 48000.0]\n",
      " ['Germany' 30.0 54000.0]\n",
      " ['Spain' 38.0 61000.0]\n",
      " ['Germany' 40.0 nan]\n",
      " ['France' 35.0 58000.0]\n",
      " ['Spain' nan 52000.0]\n",
      " ['France' 48.0 79000.0]\n",
      " ['Germany' 50.0 83000.0]\n",
      " ['France' 37.0 67000.0]]\n"
     ]
    }
   ],
   "source": [
    "#Handling missing data\n",
    "#Use sci-kit data science library\n",
    "#Sci-kit is used for various data preprocessing and analysis\n",
    "#More 50% of work is done using sci-kit learn\n",
    "\n",
    "#(1) Fill it using average, (or median or most frequent value) of the numbers in the coloumn\n",
    "from sklearn.impute import SimpleImputer\n",
    "imputer = SimpleImputer(missing_values=np.nan,strategy='mean')\n",
    "XXNew = np.copy(XX)\n",
    "XD = np.copy(XX)\n",
    "imputer.fit(XXNew[:,1:3])\n",
    "XD[:,1:3] = imputer.transform(XXNew[:,1:3])\n",
    "print(XX)\n",
    "print(XD)\n",
    "print(XXNew)"
   ]
  },
  {
   "cell_type": "code",
   "execution_count": 25,
   "id": "85391841",
   "metadata": {},
   "outputs": [
    {
     "name": "stdout",
     "output_type": "stream",
     "text": [
      "[['France' 44.0 72000.0]\n",
      " ['Spain' 27.0 48000.0]\n",
      " ['Germany' 30.0 54000.0]\n",
      " ['Spain' 38.0 61000.0]\n",
      " ['Germany' 40.0 63777.77777777778]\n",
      " ['France' 35.0 58000.0]\n",
      " ['Spain' 38.77777777777778 52000.0]\n",
      " ['France' 48.0 79000.0]\n",
      " ['Germany' 50.0 83000.0]\n",
      " ['France' 37.0 67000.0]]\n",
      "[[1.0 0.0 0.0 44.0 72000.0]\n",
      " [0.0 0.0 1.0 27.0 48000.0]\n",
      " [0.0 1.0 0.0 30.0 54000.0]\n",
      " [0.0 0.0 1.0 38.0 61000.0]\n",
      " [0.0 1.0 0.0 40.0 63777.77777777778]\n",
      " [1.0 0.0 0.0 35.0 58000.0]\n",
      " [0.0 0.0 1.0 38.77777777777778 52000.0]\n",
      " [1.0 0.0 0.0 48.0 79000.0]\n",
      " [0.0 1.0 0.0 50.0 83000.0]\n",
      " [1.0 0.0 0.0 37.0 67000.0]]\n",
      "[0 1 0 0 1 1 0 1 0 1]\n"
     ]
    }
   ],
   "source": [
    "#Encoding categorical data\n",
    "#Three countries in a coloumn: France, Spain, Germany\n",
    "#Best to create 3 elements coloumn vector like [1,0,0], [0,1,0], [0,0,1]\n",
    "\n",
    "#(1) OneHotEncoder class (Independent variables) from sci-kit library\n",
    "print(XD)\n",
    "from sklearn.compose import ColumnTransformer\n",
    "from sklearn.preprocessing import OneHotEncoder\n",
    "ct = ColumnTransformer(transformers=[('encoder', OneHotEncoder(), [0] )], remainder='passthrough')\n",
    "XD = np.array( ct.fit_transform(XD) )\n",
    "print(XD)\n",
    "\n",
    "\n",
    "#(2) LabelEncoder class (Dependent variables) from sci-kit library\n",
    "# Transform \"Yes\" and \"No\" into 0 and 1\n",
    "from sklearn.preprocessing import LabelEncoder\n",
    "le = LabelEncoder()\n",
    "y = le.fit_transform(y)\n",
    "print(y)"
   ]
  },
  {
   "cell_type": "code",
   "execution_count": 26,
   "id": "02bf4c89",
   "metadata": {},
   "outputs": [
    {
     "name": "stdout",
     "output_type": "stream",
     "text": [
      "[[0.0 0.0 1.0 38.77777777777778 52000.0]\n",
      " [0.0 1.0 0.0 40.0 63777.77777777778]\n",
      " [1.0 0.0 0.0 44.0 72000.0]\n",
      " [0.0 0.0 1.0 38.0 61000.0]\n",
      " [0.0 0.0 1.0 27.0 48000.0]\n",
      " [1.0 0.0 0.0 48.0 79000.0]\n",
      " [0.0 1.0 0.0 50.0 83000.0]\n",
      " [1.0 0.0 0.0 35.0 58000.0]] New tab \t \n",
      " \n",
      " [[0.0 1.0 0.0 30.0 54000.0]\n",
      " [1.0 0.0 0.0 37.0 67000.0]] \t [0 1 0 0 1 1 0 1] \t [0 1]\n"
     ]
    }
   ],
   "source": [
    "#Splitting the dataset into Training Set and Test Set\n",
    "#Again we use sci-kit library\n",
    "\n",
    "from sklearn.model_selection import train_test_split\n",
    "X_train, X_test, y_train, y_test = train_test_split(XD, y, test_size =0.2, random_state=1)\n",
    "\n",
    "print(X_train, \"New tab \\t \\n \\n\", X_test, \"\\t\", y_train, \"\\t\", y_test)"
   ]
  },
  {
   "cell_type": "code",
   "execution_count": 27,
   "id": "9e7d9444",
   "metadata": {},
   "outputs": [],
   "source": [
    "#Feature scaling of Input data, use sci-kit library\n",
    "#i.e. standardization of input X into gaussian distributed -3 to +3 or normalized between 0 and 1.\n",
    "#Gaussian or standard transformation will convert between -3 to +3\n",
    "#Normalized transformation will convert them between 0 to 1\n",
    "\n",
    "#from sklearn.preprocessing import StandardScaler\n",
    "#sc = StandardScaler()\n",
    "#X_train[:, 3:] = sc.fit_transform(X_train[:, 3:])\n",
    "#X_test[:, 3:] = sc.fit_transform(X_test[:, 3:])\n",
    "\n",
    "#print(X_train, \"\\t\", X_test)\n"
   ]
  },
  {
   "cell_type": "code",
   "execution_count": 28,
   "id": "ba2d0c4c",
   "metadata": {},
   "outputs": [
    {
     "name": "stdout",
     "output_type": "stream",
     "text": [
      "[[0.0 0.0 1.0 38.77777777777778 52000.0]\n",
      " [0.0 1.0 0.0 40.0 63777.77777777778]\n",
      " [1.0 0.0 0.0 44.0 72000.0]\n",
      " [0.0 0.0 1.0 38.0 61000.0]\n",
      " [0.0 0.0 1.0 27.0 48000.0]\n",
      " [1.0 0.0 0.0 48.0 79000.0]\n",
      " [0.0 1.0 0.0 50.0 83000.0]\n",
      " [1.0 0.0 0.0 35.0 58000.0]] [0 1 0 0 1 1 0 1] [[0.0 1.0 0.0 30.0 54000.0]\n",
      " [1.0 0.0 0.0 37.0 67000.0]] [0 1]\n",
      "[1.46 1.06] [0 1]\n"
     ]
    }
   ],
   "source": [
    "#Multiple linear Regression model on Training set\n",
    "#Again use sci-kit library\n",
    "\n",
    "from sklearn.linear_model import LinearRegression\n",
    "regressor = LinearRegression()\n",
    "regressor.fit(X_train, y_train)\n",
    "y_prod = regressor.predict(X_test)\n",
    "np.set_printoptions(precision=2)\n",
    "print(X_train, y_train, X_test, y_test)\n",
    "print(y_prod, y_test)"
   ]
  },
  {
   "cell_type": "code",
   "execution_count": 29,
   "id": "29dfa22a",
   "metadata": {},
   "outputs": [
    {
     "name": "stdout",
     "output_type": "stream",
     "text": [
      "[[38.77777777777778]\n",
      " [40.0]\n",
      " [44.0]\n",
      " [38.0]\n",
      " [27.0]\n",
      " [48.0]\n",
      " [50.0]\n",
      " [35.0]]\n",
      "[[1.00e+00 3.88e+01 1.50e+03]\n",
      " [1.00e+00 4.00e+01 1.60e+03]\n",
      " [1.00e+00 4.40e+01 1.94e+03]\n",
      " [1.00e+00 3.80e+01 1.44e+03]\n",
      " [1.00e+00 2.70e+01 7.29e+02]\n",
      " [1.00e+00 4.80e+01 2.30e+03]\n",
      " [1.00e+00 5.00e+01 2.50e+03]\n",
      " [1.00e+00 3.50e+01 1.22e+03]]\n"
     ]
    },
    {
     "data": {
      "text/plain": [
       "<matplotlib.collections.PathCollection at 0x7fe16260dd60>"
      ]
     },
     "execution_count": 29,
     "metadata": {},
     "output_type": "execute_result"
    },
    {
     "data": {
      "image/png": "[encoded data removed]",
      "text/plain": [
       "<Figure size 640x480 with 1 Axes>"
      ]
     },
     "metadata": {},
     "output_type": "display_data"
    }
   ],
   "source": [
    "#Polynomial Regression model using sci-kit library\n",
    "# we use PolynomialFeature class in sci-kit library\n",
    "\n",
    "from sklearn.preprocessing import PolynomialFeatures\n",
    "poly_reg = PolynomialFeatures(degree=2)\n",
    "Xp = X_train[:,3:4]\n",
    "X_poly = poly_reg.fit_transform(Xp)\n",
    "print(Xp)\n",
    "print(X_poly)\n",
    "lin_reg2 = LinearRegression()\n",
    "lin_reg2.fit(X_poly, y_train)\n",
    "\n",
    "plt.scatter(X_train[:,3:4], y_train, color='red')\n",
    "plt.scatter(X_train[:,3:4], regressor.predict(X_train), color='blue' )\n",
    "\n",
    "plt.scatter(X_train[:,3:4], lin_reg2.predict(X_poly), color='black')"
   ]
  },
  {
   "cell_type": "code",
   "execution_count": null,
   "id": "d6f1bc2c",
   "metadata": {},
   "outputs": [],
   "source": []
  },
  {
   "cell_type": "code",
   "execution_count": null,
   "id": "29b02964",
   "metadata": {},
   "outputs": [],
   "source": []
  }
 ],
 "metadata": {
  "kernelspec": {
   "display_name": "Python 3 (ipykernel)",
   "language": "python",
   "name": "python3"
  },
  "language_info": {
   "codemirror_mode": {
    "name": "ipython",
    "version": 3
   },
   "file_extension": ".py",
   "mimetype": "text/x-python",
   "name": "python",
   "nbconvert_exporter": "python",
   "pygments_lexer": "ipython3",
   "version": "3.9.12"
  }
 },
 "nbformat": 4,
 "nbformat_minor": 5
}
