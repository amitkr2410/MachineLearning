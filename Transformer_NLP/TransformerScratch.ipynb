{
  "cells": [
    {
      "cell_type": "code",
      "execution_count": 2,
      "metadata": {
        "id": "usBhv-i2Q-v5"
      },
      "outputs": [],
      "source": [
        "### Create a custom Transformer architecture\n",
        "#### In this implementation, we use single-head self-attention layer with positional encoding\n",
        "#### Work was run and tested on google colaboratory platform"
      ]
    },
    {
      "cell_type": "code",
      "execution_count": null,
      "metadata": {
        "id": "0zxTOmI0f8xk"
      },
      "outputs": [],
      "source": [
        "#Load modules\n",
        "import tensorflow as tf\n",
        "from tensorflow.keras.layers import Dense, Embedding, GlobalAveragePooling1D, Dropout\n",
        "from tensorflow.keras.models import Model\n",
        "import numpy as np\n",
        "import matplotlib.pyplot as plt\n",
        "import numpy as np\n",
        "import pandas as pd\n",
        "import seaborn as sns\n",
        "from sklearn.preprocessing import LabelEncoder"
      ]
    },
    {
      "cell_type": "code",
      "execution_count": 11,
      "metadata": {
        "colab": {
          "base_uri": "https://localhost:8080/"
        },
        "id": "3u8vBmoIRLL4",
        "outputId": "cf8ace86-1fc2-42b1-dfa3-aa6d4a51344c"
      },
      "outputs": [
        {
          "name": "stdout",
          "output_type": "stream",
          "text": [
            "0\n"
          ]
        }
      ],
      "source": [
        "import os\n",
        "print( os.system('ls sample_data') )"
      ]
    },
    {
      "cell_type": "code",
      "execution_count": 25,
      "metadata": {
        "colab": {
          "base_uri": "https://localhost:8080/",
          "height": 423
        },
        "id": "rcFIxhv4RLPE",
        "outputId": "90aa2ffc-3b31-460a-f464-95909906ae3f"
      },
      "outputs": [
        {
          "data": {
            "text/html": [
              "\n",
              "\n",
              "  <div id=\"df-67567e75-5a37-4490-a679-06a07821001b\">\n",
              "    <div class=\"colab-df-container\">\n",
              "      <div>\n",
              "<style scoped>\n",
              "    .dataframe tbody tr th:only-of-type {\n",
              "        vertical-align: middle;\n",
              "    }\n",
              "\n",
              "    .dataframe tbody tr th {\n",
              "        vertical-align: top;\n",
              "    }\n",
              "\n",
              "    .dataframe thead th {\n",
              "        text-align: right;\n",
              "    }\n",
              "</style>\n",
              "<table border=\"1\" class=\"dataframe\">\n",
              "  <thead>\n",
              "    <tr style=\"text-align: right;\">\n",
              "      <th></th>\n",
              "      <th>text</th>\n",
              "      <th>sentiment</th>\n",
              "    </tr>\n",
              "  </thead>\n",
              "  <tbody>\n",
              "    <tr>\n",
              "      <th>0</th>\n",
              "      <td>I`d have responded, if I were going</td>\n",
              "      <td>neutral</td>\n",
              "    </tr>\n",
              "    <tr>\n",
              "      <th>1</th>\n",
              "      <td>Sooo SAD I will miss you here in San Diego!!!</td>\n",
              "      <td>negative</td>\n",
              "    </tr>\n",
              "    <tr>\n",
              "      <th>2</th>\n",
              "      <td>my boss is bullying me...</td>\n",
              "      <td>negative</td>\n",
              "    </tr>\n",
              "    <tr>\n",
              "      <th>3</th>\n",
              "      <td>what interview! leave me alone</td>\n",
              "      <td>negative</td>\n",
              "    </tr>\n",
              "    <tr>\n",
              "      <th>4</th>\n",
              "      <td>Sons of ****, why couldn`t they put them on t...</td>\n",
              "      <td>negative</td>\n",
              "    </tr>\n",
              "    <tr>\n",
              "      <th>...</th>\n",
              "      <td>...</td>\n",
              "      <td>...</td>\n",
              "    </tr>\n",
              "    <tr>\n",
              "      <th>27476</th>\n",
              "      <td>wish we could come see u on Denver  husband l...</td>\n",
              "      <td>negative</td>\n",
              "    </tr>\n",
              "    <tr>\n",
              "      <th>27477</th>\n",
              "      <td>I`ve wondered about rake to.  The client has ...</td>\n",
              "      <td>negative</td>\n",
              "    </tr>\n",
              "    <tr>\n",
              "      <th>27478</th>\n",
              "      <td>Yay good for both of you. Enjoy the break - y...</td>\n",
              "      <td>positive</td>\n",
              "    </tr>\n",
              "    <tr>\n",
              "      <th>27479</th>\n",
              "      <td>But it was worth it  ****.</td>\n",
              "      <td>positive</td>\n",
              "    </tr>\n",
              "    <tr>\n",
              "      <th>27480</th>\n",
              "      <td>All this flirting going on - The ATG smiles...</td>\n",
              "      <td>neutral</td>\n",
              "    </tr>\n",
              "  </tbody>\n",
              "</table>\n",
              "<p>27481 rows × 2 columns</p>\n",
              "</div>\n",
              "      <button class=\"colab-df-convert\" onclick=\"convertToInteractive('df-67567e75-5a37-4490-a679-06a07821001b')\"\n",
              "              title=\"Convert this dataframe to an interactive table.\"\n",
              "              style=\"display:none;\">\n",
              "\n",
              "  <svg xmlns=\"http://www.w3.org/2000/svg\" height=\"24px\"viewBox=\"0 0 24 24\"\n",
              "       width=\"24px\">\n",
              "    <path d=\"M0 0h24v24H0V0z\" fill=\"none\"/>\n",
              "    <path d=\"M18.56 5.44l.94 2.06.94-2.06 2.06-.94-2.06-.94-.94-2.06-.94 2.06-2.06.94zm-11 1L8.5 8.5l.94-2.06 2.06-.94-2.06-.94L8.5 2.5l-.94 2.06-2.06.94zm10 10l.94 2.06.94-2.06 2.06-.94-2.06-.94-.94-2.06-.94 2.06-2.06.94z\"/><path d=\"M17.41 7.96l-1.37-1.37c-.4-.4-.92-.59-1.43-.59-.52 0-1.04.2-1.43.59L10.3 9.45l-7.72 7.72c-.78.78-.78 2.05 0 2.83L4 21.41c.39.39.9.59 1.41.59.51 0 1.02-.2 1.41-.59l7.78-7.78 2.81-2.81c.8-.78.8-2.07 0-2.86zM5.41 20L4 18.59l7.72-7.72 1.47 1.35L5.41 20z\"/>\n",
              "  </svg>\n",
              "      </button>\n",
              "\n",
              "\n",
              "\n",
              "    <div id=\"df-da264fcc-d0dd-4bd9-9588-f029fc7de5e1\">\n",
              "      <button class=\"colab-df-quickchart\" onclick=\"quickchart('df-da264fcc-d0dd-4bd9-9588-f029fc7de5e1')\"\n",
              "              title=\"Suggest charts.\"\n",
              "              style=\"display:none;\">\n",
              "\n",
              "<svg xmlns=\"http://www.w3.org/2000/svg\" height=\"24px\"viewBox=\"0 0 24 24\"\n",
              "     width=\"24px\">\n",
              "    <g>\n",
              "        <path d=\"M19 3H5c-1.1 0-2 .9-2 2v14c0 1.1.9 2 2 2h14c1.1 0 2-.9 2-2V5c0-1.1-.9-2-2-2zM9 17H7v-7h2v7zm4 0h-2V7h2v10zm4 0h-2v-4h2v4z\"/>\n",
              "    </g>\n",
              "</svg>\n",
              "      </button>\n",
              "    </div>\n",
              "\n",
              "<style>\n",
              "  .colab-df-quickchart {\n",
              "    background-color: #E8F0FE;\n",
              "    border: none;\n",
              "    border-radius: 50%;\n",
              "    cursor: pointer;\n",
              "    display: none;\n",
              "    fill: #1967D2;\n",
              "    height: 32px;\n",
              "    padding: 0 0 0 0;\n",
              "    width: 32px;\n",
              "  }\n",
              "\n",
              "  .colab-df-quickchart:hover {\n",
              "    background-color: #E2EBFA;\n",
              "    box-shadow: 0px 1px 2px rgba(60, 64, 67, 0.3), 0px 1px 3px 1px rgba(60, 64, 67, 0.15);\n",
              "    fill: #174EA6;\n",
              "  }\n",
              "\n",
              "  [theme=dark] .colab-df-quickchart {\n",
              "    background-color: #3B4455;\n",
              "    fill: #D2E3FC;\n",
              "  }\n",
              "\n",
              "  [theme=dark] .colab-df-quickchart:hover {\n",
              "    background-color: #434B5C;\n",
              "    box-shadow: 0px 1px 3px 1px rgba(0, 0, 0, 0.15);\n",
              "    filter: drop-shadow(0px 1px 2px rgba(0, 0, 0, 0.3));\n",
              "    fill: #FFFFFF;\n",
              "  }\n",
              "</style>\n",
              "\n",
              "    <script>\n",
              "      async function quickchart(key) {\n",
              "        const containerElement = document.querySelector('#' + key);\n",
              "        const charts = await google.colab.kernel.invokeFunction(\n",
              "            'suggestCharts', [key], {});\n",
              "      }\n",
              "    </script>\n",
              "\n",
              "      <script>\n",
              "\n",
              "function displayQuickchartButton(domScope) {\n",
              "  let quickchartButtonEl =\n",
              "    domScope.querySelector('#df-da264fcc-d0dd-4bd9-9588-f029fc7de5e1 button.colab-df-quickchart');\n",
              "  quickchartButtonEl.style.display =\n",
              "    google.colab.kernel.accessAllowed ? 'block' : 'none';\n",
              "}\n",
              "\n",
              "        displayQuickchartButton(document);\n",
              "      </script>\n",
              "      <style>\n",
              "    .colab-df-container {\n",
              "      display:flex;\n",
              "      flex-wrap:wrap;\n",
              "      gap: 12px;\n",
              "    }\n",
              "\n",
              "    .colab-df-convert {\n",
              "      background-color: #E8F0FE;\n",
              "      border: none;\n",
              "      border-radius: 50%;\n",
              "      cursor: pointer;\n",
              "      display: none;\n",
              "      fill: #1967D2;\n",
              "      height: 32px;\n",
              "      padding: 0 0 0 0;\n",
              "      width: 32px;\n",
              "    }\n",
              "\n",
              "    .colab-df-convert:hover {\n",
              "      background-color: #E2EBFA;\n",
              "      box-shadow: 0px 1px 2px rgba(60, 64, 67, 0.3), 0px 1px 3px 1px rgba(60, 64, 67, 0.15);\n",
              "      fill: #174EA6;\n",
              "    }\n",
              "\n",
              "    [theme=dark] .colab-df-convert {\n",
              "      background-color: #3B4455;\n",
              "      fill: #D2E3FC;\n",
              "    }\n",
              "\n",
              "    [theme=dark] .colab-df-convert:hover {\n",
              "      background-color: #434B5C;\n",
              "      box-shadow: 0px 1px 3px 1px rgba(0, 0, 0, 0.15);\n",
              "      filter: drop-shadow(0px 1px 2px rgba(0, 0, 0, 0.3));\n",
              "      fill: #FFFFFF;\n",
              "    }\n",
              "  </style>\n",
              "\n",
              "      <script>\n",
              "        const buttonEl =\n",
              "          document.querySelector('#df-67567e75-5a37-4490-a679-06a07821001b button.colab-df-convert');\n",
              "        buttonEl.style.display =\n",
              "          google.colab.kernel.accessAllowed ? 'block' : 'none';\n",
              "\n",
              "        async function convertToInteractive(key) {\n",
              "          const element = document.querySelector('#df-67567e75-5a37-4490-a679-06a07821001b');\n",
              "          const dataTable =\n",
              "            await google.colab.kernel.invokeFunction('convertToInteractive',\n",
              "                                                     [key], {});\n",
              "          if (!dataTable) return;\n",
              "\n",
              "          const docLinkHtml = 'Like what you see? Visit the ' +\n",
              "            '<a target=\"_blank\" href=https://colab.research.google.com/notebooks/data_table.ipynb>data table notebook</a>'\n",
              "            + ' to learn more about interactive tables.';\n",
              "          element.innerHTML = '';\n",
              "          dataTable['output_type'] = 'display_data';\n",
              "          await google.colab.output.renderOutput(dataTable, element);\n",
              "          const docLink = document.createElement('div');\n",
              "          docLink.innerHTML = docLinkHtml;\n",
              "          element.appendChild(docLink);\n",
              "        }\n",
              "      </script>\n",
              "    </div>\n",
              "  </div>\n"
            ],
            "text/plain": [
              "                                                    text sentiment\n",
              "0                    I`d have responded, if I were going   neutral\n",
              "1          Sooo SAD I will miss you here in San Diego!!!  negative\n",
              "2                              my boss is bullying me...  negative\n",
              "3                         what interview! leave me alone  negative\n",
              "4       Sons of ****, why couldn`t they put them on t...  negative\n",
              "...                                                  ...       ...\n",
              "27476   wish we could come see u on Denver  husband l...  negative\n",
              "27477   I`ve wondered about rake to.  The client has ...  negative\n",
              "27478   Yay good for both of you. Enjoy the break - y...  positive\n",
              "27479                         But it was worth it  ****.  positive\n",
              "27480     All this flirting going on - The ATG smiles...   neutral\n",
              "\n",
              "[27481 rows x 2 columns]"
            ]
          },
          "execution_count": 25,
          "metadata": {},
          "output_type": "execute_result"
        }
      ],
      "source": [
        "#Read the data\n",
        "df = pd.read_csv(\"data.csv\", encoding= 'unicode_escape')\n",
        "df_reduced = df.loc[:, ['text', 'sentiment']]\n",
        "df_reduced\n",
        "#dataset\n",
        "#train_dataset, test_dataset = dataset[:40000], dataset[40000:]"
      ]
    },
    {
      "cell_type": "code",
      "execution_count": 31,
      "metadata": {
        "colab": {
          "base_uri": "https://localhost:8080/"
        },
        "id": "6CJ7ux-BWpss",
        "outputId": "7edb5237-721b-49a3-cf39-c823004adaed"
      },
      "outputs": [
        {
          "data": {
            "text/plain": [
              "str"
            ]
          },
          "execution_count": 31,
          "metadata": {},
          "output_type": "execute_result"
        }
      ],
      "source": [
        "type(df_reduced.text[0])"
      ]
    },
    {
      "cell_type": "code",
      "execution_count": null,
      "metadata": {
        "id": "yVBP3xvZSzp-"
      },
      "outputs": [],
      "source": [
        "from google.colab import drive\n",
        "drive.mount('/content/drive')"
      ]
    },
    {
      "cell_type": "code",
      "execution_count": 35,
      "metadata": {
        "colab": {
          "base_uri": "https://localhost:8080/"
        },
        "id": "aNWAGg2FRLR5",
        "outputId": "6aca3d15-418b-4587-afd2-56070e0b98fc"
      },
      "outputs": [
        {
          "name": "stdout",
          "output_type": "stream",
          "text": [
            "amit h    http   man mynameisamitwhatis geomorphologically \n"
          ]
        }
      ],
      "source": [
        "#Preprocess text to remove special characters\n",
        "def text_process(message):\n",
        "    \"\"\"\n",
        "    Takes in a string of text, then performs the following:\n",
        "    1. Remove all punctuation\n",
        "    2. Remove all stopwords using nltk stopwords\n",
        "    3. Remove prefix and suffix using PorterStemmer\n",
        "    4. Returns a list of the cleaned text\n",
        "    \"\"\"\n",
        "    newstring_list = []\n",
        "    newstring = \"\"\n",
        "    ans = newstring\n",
        "    # Check characters to see if they are in punctuation or numbers\n",
        "    for j in str(message):\n",
        "        if j.isalpha():\n",
        "            newstring_list.append(j)\n",
        "        elif j in string.punctuation:\n",
        "            newstring_list.append(\" \")\n",
        "        else:\n",
        "            newstring_list.append(\" \")\n",
        "    # Join the characters again to form the string.\n",
        "    newstring = \"\".join(newstring_list)\n",
        "    #print(newstring)\n",
        "    ans = newstring\n",
        "\n",
        "    return ans\n",
        "\n",
        "word='amit h ?* http2 @man mynameisamitwhatis geomorphologically '\n",
        "ans = text_process(word)\n",
        "print(ans)"
      ]
    },
    {
      "cell_type": "code",
      "execution_count": 38,
      "metadata": {
        "colab": {
          "base_uri": "https://localhost:8080/",
          "height": 224
        },
        "id": "cVBXOCBIRLUz",
        "outputId": "2010420b-24fc-4971-c549-84e97c1a6914"
      },
      "outputs": [
        {
          "name": "stdout",
          "output_type": "stream",
          "text": [
            "(27481, 2)\n"
          ]
        },
        {
          "data": {
            "text/html": [
              "\n",
              "\n",
              "  <div id=\"df-5db320fe-7b9d-4047-86bf-55add396bbfd\">\n",
              "    <div class=\"colab-df-container\">\n",
              "      <div>\n",
              "<style scoped>\n",
              "    .dataframe tbody tr th:only-of-type {\n",
              "        vertical-align: middle;\n",
              "    }\n",
              "\n",
              "    .dataframe tbody tr th {\n",
              "        vertical-align: top;\n",
              "    }\n",
              "\n",
              "    .dataframe thead th {\n",
              "        text-align: right;\n",
              "    }\n",
              "</style>\n",
              "<table border=\"1\" class=\"dataframe\">\n",
              "  <thead>\n",
              "    <tr style=\"text-align: right;\">\n",
              "      <th></th>\n",
              "      <th>text</th>\n",
              "      <th>sentiment</th>\n",
              "    </tr>\n",
              "  </thead>\n",
              "  <tbody>\n",
              "    <tr>\n",
              "      <th>0</th>\n",
              "      <td>I d have responded  if I were going</td>\n",
              "      <td>neutral</td>\n",
              "    </tr>\n",
              "    <tr>\n",
              "      <th>1</th>\n",
              "      <td>Sooo SAD I will miss you here in San Diego</td>\n",
              "      <td>negative</td>\n",
              "    </tr>\n",
              "    <tr>\n",
              "      <th>2</th>\n",
              "      <td>my boss is bullying me</td>\n",
              "      <td>negative</td>\n",
              "    </tr>\n",
              "    <tr>\n",
              "      <th>3</th>\n",
              "      <td>what interview  leave me alone</td>\n",
              "      <td>negative</td>\n",
              "    </tr>\n",
              "    <tr>\n",
              "      <th>4</th>\n",
              "      <td>Sons of       why couldn t they put them on t...</td>\n",
              "      <td>negative</td>\n",
              "    </tr>\n",
              "  </tbody>\n",
              "</table>\n",
              "</div>\n",
              "      <button class=\"colab-df-convert\" onclick=\"convertToInteractive('df-5db320fe-7b9d-4047-86bf-55add396bbfd')\"\n",
              "              title=\"Convert this dataframe to an interactive table.\"\n",
              "              style=\"display:none;\">\n",
              "\n",
              "  <svg xmlns=\"http://www.w3.org/2000/svg\" height=\"24px\"viewBox=\"0 0 24 24\"\n",
              "       width=\"24px\">\n",
              "    <path d=\"M0 0h24v24H0V0z\" fill=\"none\"/>\n",
              "    <path d=\"M18.56 5.44l.94 2.06.94-2.06 2.06-.94-2.06-.94-.94-2.06-.94 2.06-2.06.94zm-11 1L8.5 8.5l.94-2.06 2.06-.94-2.06-.94L8.5 2.5l-.94 2.06-2.06.94zm10 10l.94 2.06.94-2.06 2.06-.94-2.06-.94-.94-2.06-.94 2.06-2.06.94z\"/><path d=\"M17.41 7.96l-1.37-1.37c-.4-.4-.92-.59-1.43-.59-.52 0-1.04.2-1.43.59L10.3 9.45l-7.72 7.72c-.78.78-.78 2.05 0 2.83L4 21.41c.39.39.9.59 1.41.59.51 0 1.02-.2 1.41-.59l7.78-7.78 2.81-2.81c.8-.78.8-2.07 0-2.86zM5.41 20L4 18.59l7.72-7.72 1.47 1.35L5.41 20z\"/>\n",
              "  </svg>\n",
              "      </button>\n",
              "\n",
              "\n",
              "\n",
              "    <div id=\"df-b4b340b5-faed-4c7c-83fb-ec6d45198193\">\n",
              "      <button class=\"colab-df-quickchart\" onclick=\"quickchart('df-b4b340b5-faed-4c7c-83fb-ec6d45198193')\"\n",
              "              title=\"Suggest charts.\"\n",
              "              style=\"display:none;\">\n",
              "\n",
              "<svg xmlns=\"http://www.w3.org/2000/svg\" height=\"24px\"viewBox=\"0 0 24 24\"\n",
              "     width=\"24px\">\n",
              "    <g>\n",
              "        <path d=\"M19 3H5c-1.1 0-2 .9-2 2v14c0 1.1.9 2 2 2h14c1.1 0 2-.9 2-2V5c0-1.1-.9-2-2-2zM9 17H7v-7h2v7zm4 0h-2V7h2v10zm4 0h-2v-4h2v4z\"/>\n",
              "    </g>\n",
              "</svg>\n",
              "      </button>\n",
              "    </div>\n",
              "\n",
              "<style>\n",
              "  .colab-df-quickchart {\n",
              "    background-color: #E8F0FE;\n",
              "    border: none;\n",
              "    border-radius: 50%;\n",
              "    cursor: pointer;\n",
              "    display: none;\n",
              "    fill: #1967D2;\n",
              "    height: 32px;\n",
              "    padding: 0 0 0 0;\n",
              "    width: 32px;\n",
              "  }\n",
              "\n",
              "  .colab-df-quickchart:hover {\n",
              "    background-color: #E2EBFA;\n",
              "    box-shadow: 0px 1px 2px rgba(60, 64, 67, 0.3), 0px 1px 3px 1px rgba(60, 64, 67, 0.15);\n",
              "    fill: #174EA6;\n",
              "  }\n",
              "\n",
              "  [theme=dark] .colab-df-quickchart {\n",
              "    background-color: #3B4455;\n",
              "    fill: #D2E3FC;\n",
              "  }\n",
              "\n",
              "  [theme=dark] .colab-df-quickchart:hover {\n",
              "    background-color: #434B5C;\n",
              "    box-shadow: 0px 1px 3px 1px rgba(0, 0, 0, 0.15);\n",
              "    filter: drop-shadow(0px 1px 2px rgba(0, 0, 0, 0.3));\n",
              "    fill: #FFFFFF;\n",
              "  }\n",
              "</style>\n",
              "\n",
              "    <script>\n",
              "      async function quickchart(key) {\n",
              "        const containerElement = document.querySelector('#' + key);\n",
              "        const charts = await google.colab.kernel.invokeFunction(\n",
              "            'suggestCharts', [key], {});\n",
              "      }\n",
              "    </script>\n",
              "\n",
              "      <script>\n",
              "\n",
              "function displayQuickchartButton(domScope) {\n",
              "  let quickchartButtonEl =\n",
              "    domScope.querySelector('#df-b4b340b5-faed-4c7c-83fb-ec6d45198193 button.colab-df-quickchart');\n",
              "  quickchartButtonEl.style.display =\n",
              "    google.colab.kernel.accessAllowed ? 'block' : 'none';\n",
              "}\n",
              "\n",
              "        displayQuickchartButton(document);\n",
              "      </script>\n",
              "      <style>\n",
              "    .colab-df-container {\n",
              "      display:flex;\n",
              "      flex-wrap:wrap;\n",
              "      gap: 12px;\n",
              "    }\n",
              "\n",
              "    .colab-df-convert {\n",
              "      background-color: #E8F0FE;\n",
              "      border: none;\n",
              "      border-radius: 50%;\n",
              "      cursor: pointer;\n",
              "      display: none;\n",
              "      fill: #1967D2;\n",
              "      height: 32px;\n",
              "      padding: 0 0 0 0;\n",
              "      width: 32px;\n",
              "    }\n",
              "\n",
              "    .colab-df-convert:hover {\n",
              "      background-color: #E2EBFA;\n",
              "      box-shadow: 0px 1px 2px rgba(60, 64, 67, 0.3), 0px 1px 3px 1px rgba(60, 64, 67, 0.15);\n",
              "      fill: #174EA6;\n",
              "    }\n",
              "\n",
              "    [theme=dark] .colab-df-convert {\n",
              "      background-color: #3B4455;\n",
              "      fill: #D2E3FC;\n",
              "    }\n",
              "\n",
              "    [theme=dark] .colab-df-convert:hover {\n",
              "      background-color: #434B5C;\n",
              "      box-shadow: 0px 1px 3px 1px rgba(0, 0, 0, 0.15);\n",
              "      filter: drop-shadow(0px 1px 2px rgba(0, 0, 0, 0.3));\n",
              "      fill: #FFFFFF;\n",
              "    }\n",
              "  </style>\n",
              "\n",
              "      <script>\n",
              "        const buttonEl =\n",
              "          document.querySelector('#df-5db320fe-7b9d-4047-86bf-55add396bbfd button.colab-df-convert');\n",
              "        buttonEl.style.display =\n",
              "          google.colab.kernel.accessAllowed ? 'block' : 'none';\n",
              "\n",
              "        async function convertToInteractive(key) {\n",
              "          const element = document.querySelector('#df-5db320fe-7b9d-4047-86bf-55add396bbfd');\n",
              "          const dataTable =\n",
              "            await google.colab.kernel.invokeFunction('convertToInteractive',\n",
              "                                                     [key], {});\n",
              "          if (!dataTable) return;\n",
              "\n",
              "          const docLinkHtml = 'Like what you see? Visit the ' +\n",
              "            '<a target=\"_blank\" href=https://colab.research.google.com/notebooks/data_table.ipynb>data table notebook</a>'\n",
              "            + ' to learn more about interactive tables.';\n",
              "          element.innerHTML = '';\n",
              "          dataTable['output_type'] = 'display_data';\n",
              "          await google.colab.output.renderOutput(dataTable, element);\n",
              "          const docLink = document.createElement('div');\n",
              "          docLink.innerHTML = docLinkHtml;\n",
              "          element.appendChild(docLink);\n",
              "        }\n",
              "      </script>\n",
              "    </div>\n",
              "  </div>\n"
            ],
            "text/plain": [
              "                                                text sentiment\n",
              "0                I d have responded  if I were going   neutral\n",
              "1      Sooo SAD I will miss you here in San Diego     negative\n",
              "2                          my boss is bullying me     negative\n",
              "3                     what interview  leave me alone  negative\n",
              "4   Sons of       why couldn t they put them on t...  negative"
            ]
          },
          "execution_count": 38,
          "metadata": {},
          "output_type": "execute_result"
        }
      ],
      "source": [
        "df_new = df_reduced.copy()\n",
        "df_new['text'] = df_reduced.text.apply(text_process)\n",
        "print(df_new.shape)\n",
        "df_new.head()"
      ]
    },
    {
      "cell_type": "code",
      "execution_count": 39,
      "metadata": {
        "colab": {
          "base_uri": "https://localhost:8080/"
        },
        "id": "6M6gmlERRLXr",
        "outputId": "c332882c-cc85-458a-fe3b-eb0ce6de2034"
      },
      "outputs": [
        {
          "name": "stdout",
          "output_type": "stream",
          "text": [
            "(27481,)\n",
            "(27481,)\n",
            "(20610,)\n",
            "(20610,)\n",
            "(6871,)\n",
            "6871\n"
          ]
        }
      ],
      "source": [
        "# split X and y into training and testing sets\n",
        "from sklearn.model_selection import train_test_split\n",
        "X = df_new.text\n",
        "y = df_new.sentiment\n",
        "print(X.shape)\n",
        "print(y.shape)\n",
        "\n",
        "X_train, X_test, y_train, y_test = train_test_split(X, y, random_state=1)\n",
        "\n",
        "\n",
        "print(X_train.shape)\n",
        "print(y_train.shape)\n",
        "print(X_test.shape)\n",
        "print(len(y_test))"
      ]
    },
    {
      "cell_type": "code",
      "execution_count": 40,
      "metadata": {
        "colab": {
          "base_uri": "https://localhost:8080/"
        },
        "id": "3txaqekTRLad",
        "outputId": "5f3e63e7-a7da-4832-d18e-f4559cef2600"
      },
      "outputs": [
        {
          "data": {
            "text/plain": [
              "14545             just now i know how twitter exactly work\n",
              "16349                                        I know  lame \n",
              "16185     back from sql  finals tomorrow   new video today\n",
              "11757            Skipping school like all the cool kids do\n",
              "27190                                  UGH I HATE QUEUEING\n",
              "                               ...                        \n",
              "10955    I m still up  Thank you all for praying    AHA...\n",
              "17289     Dude I feel really bad but it doesn t work  I...\n",
              "5192     I like taking my dogs with me in the car when ...\n",
              "12172    odd i tried to call mitchel musso but it dosen...\n",
              "235      Done at the spa   now meeting vic for some lat...\n",
              "Name: text, Length: 20610, dtype: object"
            ]
          },
          "execution_count": 40,
          "metadata": {},
          "output_type": "execute_result"
        }
      ],
      "source": [
        "X_train"
      ]
    },
    {
      "cell_type": "code",
      "execution_count": 41,
      "metadata": {
        "colab": {
          "base_uri": "https://localhost:8080/"
        },
        "id": "GtVVUoAPZFX_",
        "outputId": "a3ff5ee7-3f51-4862-c287-6a62c55847e3"
      },
      "outputs": [
        {
          "data": {
            "text/plain": [
              "array(['just now i know how twitter exactly work', ' I know  lame ',\n",
              "       'back from sql  finals tomorrow   new video today', ...,\n",
              "       'I like taking my dogs with me in the car when I run errands  They are always excited to go anywhere  like this morning to Krogers ',\n",
              "       'odd i tried to call mitchel musso but it dosent work    ',\n",
              "       'Done at the spa   now meeting vic for some late lunch '],\n",
              "      dtype=object)"
            ]
          },
          "execution_count": 41,
          "metadata": {},
          "output_type": "execute_result"
        }
      ],
      "source": [
        "X_train.to_numpy()"
      ]
    },
    {
      "cell_type": "code",
      "execution_count": 43,
      "metadata": {
        "id": "_jjlFbBDZSjJ"
      },
      "outputs": [],
      "source": [
        "#Parameters for transformer architecture\n",
        "max_len = 256  # Maximum sequence length\n",
        "embedding_dim = 64  # Dimension of word embeddings\n",
        "attention_units_num = 16  # Attention units for self-attention mechanism\n",
        "num_classes = 3  # Number of output classes (e.g., positive and negative)"
      ]
    },
    {
      "cell_type": "code",
      "execution_count": 44,
      "metadata": {
        "id": "E4Eu9ACZZYS8"
      },
      "outputs": [],
      "source": [
        "class SelfAttention(tf.keras.layers.Layer):\n",
        "    def __init__(self, attention_units_num):\n",
        "        super(SelfAttention, self).__init__()\n",
        "        self.attention_units = attention_units_num\n",
        "\n",
        "    def build(self, input_shape):\n",
        "        self.WQ = self.add_weight(shape=(input_shape[-1], self.attention_units),\n",
        "                                  initializer='glorot_uniform',\n",
        "                                  trainable=True)\n",
        "        self.WK = self.add_weight(shape=(input_shape[-1], self.attention_units),\n",
        "                                  initializer='glorot_uniform',\n",
        "                                  trainable=True)\n",
        "        self.WV = self.add_weight(shape=(input_shape[-1], self.attention_units),\n",
        "                                  initializer='glorot_uniform',\n",
        "                                  trainable=True)\n",
        "\n",
        "    def call(self, inputs):\n",
        "        Q = tf.matmul(inputs, self.WQ)\n",
        "        K = tf.matmul(inputs, self.WK)\n",
        "        V = tf.matmul(inputs, self.WV)\n",
        "\n",
        "        d_k = tf.cast(tf.shape(K)[-1], tf.float32)\n",
        "        attention_weights = tf.nn.softmax(tf.matmul(Q, K, transpose_b=True)/tf.math.sqrt(d_k), axis=-1)\n",
        "        output = tf.matmul(attention_weights, V)\n",
        "\n",
        "        return output, attention_weights"
      ]
    },
    {
      "cell_type": "code",
      "execution_count": 45,
      "metadata": {
        "id": "-PVHfyDtZYV5"
      },
      "outputs": [],
      "source": [
        "#Create SentimentClassifier class\n",
        "class SentimentClassifier(tf.keras.Model):\n",
        "    def __init__(self, vocab_size, max_len, embedding_dim, attention_units_num, num_classes):\n",
        "        super(SentimentClassifier, self).__init__()\n",
        "        self.embedding = Embedding(vocab_size, embedding_dim, input_length=max_len)\n",
        "        self.positional_encoding = self.positional_encoding(max_len, embedding_dim)\n",
        "        self.attention = SelfAttention(attention_units_num)\n",
        "        self.global_avg_pool = GlobalAveragePooling1D()\n",
        "        self.dense1 = Dense(256, activation=\"relu\")\n",
        "        self.dropout = Dropout(0.25)\n",
        "        self.dense2 = Dense(num_classes, activation='softmax')\n",
        "\n",
        "    def call(self, inputs):\n",
        "        x = self.embedding(inputs)\n",
        "        x *= tf.math.sqrt(tf.cast(tf.shape(x)[-1], tf.float32))\n",
        "        x += self.positional_encoding[:, :tf.shape(x)[1], :]\n",
        "        output, attention_weights = self.attention(x)\n",
        "        output = self.global_avg_pool(output)\n",
        "        output = self.dense1(output)\n",
        "        output = self.dropout(output)\n",
        "        output = self.dense2(output)\n",
        "\n",
        "        return output, attention_weights\n",
        "\n",
        "    def positional_encoding(self, position, d_model):\n",
        "        angle_rates = 1 / np.power(10000, (2 * (np.arange(d_model)[np.newaxis, :] // 2)) / np.float32(d_model))\n",
        "        angle_rads = np.arange(position)[:, np.newaxis] * angle_rates\n",
        "\n",
        "        # Apply sin to even indices in the array; 2i\n",
        "        angle_rads[:, 0::2] = np.sin(angle_rads[:, 0::2])\n",
        "\n",
        "        # Apply cos to odd indices in the array; 2i+1\n",
        "        angle_rads[:, 1::2] = np.cos(angle_rads[:, 1::2])\n",
        "\n",
        "        pos_encoding = angle_rads[np.newaxis, ...]\n",
        "        return tf.cast(pos_encoding, dtype=tf.float32)\n"
      ]
    },
    {
      "cell_type": "code",
      "execution_count": 46,
      "metadata": {
        "id": "MD4w1n04ZYY4"
      },
      "outputs": [],
      "source": [
        "#Tokenize the all input messages\n",
        "tokenizer = tf.keras.preprocessing.text.Tokenizer()\n",
        "tokenizer.fit_on_texts(df_new[\"text\"])\n",
        "vocab_size = len(tokenizer.word_index) + 1\n"
      ]
    },
    {
      "cell_type": "code",
      "execution_count": 51,
      "metadata": {
        "colab": {
          "base_uri": "https://localhost:8080/"
        },
        "id": "cZ5G1VwncAhS",
        "outputId": "f14d54c0-fbae-45b9-b2f6-9ac1dfedcd79"
      },
      "outputs": [
        {
          "name": "stdout",
          "output_type": "stream",
          "text": [
            "[[  22   30    1 ...    0    0    0]\n",
            " [   1   60  907 ...    0    0    0]\n",
            " [  62   55 4732 ...    0    0    0]\n",
            " ...\n",
            " [   1   39  439 ...    0    0    0]\n",
            " [2115    1  521 ...    0    0    0]\n",
            " [ 183   26    3 ...    0    0    0]]\n",
            "[[ 334   15 1474 ...    0    0    0]\n",
            " [ 305  638   89 ...    0    0    0]\n",
            " [1174  114   31 ...    0    0    0]\n",
            " ...\n",
            " [ 305    1  370 ...    0    0    0]\n",
            " [  45   28  671 ...    0    0    0]\n",
            " [ 840   35   16 ...    0    0    0]]\n",
            "[1 0 1 ... 2 0 1]\n"
          ]
        }
      ],
      "source": [
        "X_train_tokenized = tokenizer.texts_to_sequences(X_train.to_numpy())\n",
        "X_train_tokenized = tf.keras.preprocessing.sequence.pad_sequences(X_train_tokenized, padding='post', maxlen=max_len)\n",
        "print(X_train_tokenized)\n",
        "\n",
        "X_test_tokenized = tokenizer.texts_to_sequences(X_test.to_numpy())\n",
        "X_test_tokenized = tf.keras.preprocessing.sequence.pad_sequences(X_test_tokenized, padding='post', maxlen=max_len)\n",
        "print(X_test_tokenized)\n",
        "\n",
        "#Encoder for output class\n",
        "encoder = LabelEncoder()\n",
        "y_train_encoded = encoder.fit_transform(y_train.to_numpy())\n",
        "y_test_encoded = encoder.transform(y_test.to_numpy())\n",
        "\n",
        "y_train_encoded = y_train_encoded.astype(np.int64)\n",
        "y_test_encoded = y_test_encoded.astype(np.int64)\n",
        "\n",
        "print(y_train_encoded)"
      ]
    },
    {
      "cell_type": "code",
      "execution_count": 52,
      "metadata": {
        "colab": {
          "base_uri": "https://localhost:8080/"
        },
        "id": "dS7pVqH6dkAn",
        "outputId": "cce3b7d3-652d-4298-8925-f117ad35833e"
      },
      "outputs": [
        {
          "name": "stdout",
          "output_type": "stream",
          "text": [
            "<_BatchDataset element_spec=(TensorSpec(shape=(None, 256), dtype=tf.int32, name=None), TensorSpec(shape=(None,), dtype=tf.int64, name=None))>\n"
          ]
        }
      ],
      "source": [
        "train_dataset = tf.data.Dataset.from_tensor_slices((X_train_tokenized, y_train_encoded)).batch(64)\n",
        "test_dataset = tf.data.Dataset.from_tensor_slices((X_test_tokenized, y_test_encoded)).batch(32)\n",
        "print(train_dataset)"
      ]
    },
    {
      "cell_type": "code",
      "execution_count": 54,
      "metadata": {
        "id": "OwfF8Ho3dkCB"
      },
      "outputs": [],
      "source": [
        "#Initialize classifier model\n",
        "classifier = SentimentClassifier(vocab_size, max_len, embedding_dim, attention_units_num, num_classes)\n"
      ]
    },
    {
      "cell_type": "code",
      "execution_count": 58,
      "metadata": {
        "id": "qh7Hxu8pdkES"
      },
      "outputs": [],
      "source": [
        "learning_rate = 0.0002\n",
        "epochs = 10\n",
        "loss_fn = tf.keras.losses.SparseCategoricalCrossentropy()\n",
        "optimizer = tf.keras.optimizers.Adam(learning_rate=learning_rate)\n",
        "\n"
      ]
    },
    {
      "cell_type": "code",
      "execution_count": 59,
      "metadata": {
        "colab": {
          "base_uri": "https://localhost:8080/"
        },
        "id": "NI3sJYeieRNt",
        "outputId": "8de35cf7-7226-4c9f-dfb8-ede46ef7b22e"
      },
      "outputs": [
        {
          "name": "stdout",
          "output_type": "stream",
          "text": [
            "Epoch 1/10\n",
            "Step 0/322 - Loss: 0.5397\n",
            "Step 100/322 - Loss: 0.5693\n",
            "Step 200/322 - Loss: 0.3827\n",
            "Step 300/322 - Loss: 0.3980\n",
            "Epoch 2/10\n",
            "Step 0/322 - Loss: 0.4928\n",
            "Step 100/322 - Loss: 0.5442\n",
            "Step 200/322 - Loss: 0.2888\n",
            "Step 300/322 - Loss: 0.2939\n",
            "Epoch 3/10\n",
            "Step 0/322 - Loss: 0.4250\n",
            "Step 100/322 - Loss: 0.5026\n",
            "Step 200/322 - Loss: 0.2289\n",
            "Step 300/322 - Loss: 0.2094\n",
            "Epoch 4/10\n",
            "Step 0/322 - Loss: 0.3631\n",
            "Step 100/322 - Loss: 0.4524\n",
            "Step 200/322 - Loss: 0.1720\n",
            "Step 300/322 - Loss: 0.1540\n",
            "Epoch 5/10\n",
            "Step 0/322 - Loss: 0.3349\n",
            "Step 100/322 - Loss: 0.3929\n",
            "Step 200/322 - Loss: 0.1218\n",
            "Step 300/322 - Loss: 0.1209\n",
            "Epoch 6/10\n",
            "Step 0/322 - Loss: 0.3200\n",
            "Step 100/322 - Loss: 0.3387\n",
            "Step 200/322 - Loss: 0.1016\n",
            "Step 300/322 - Loss: 0.0887\n",
            "Epoch 7/10\n",
            "Step 0/322 - Loss: 0.2980\n",
            "Step 100/322 - Loss: 0.3034\n",
            "Step 200/322 - Loss: 0.0893\n",
            "Step 300/322 - Loss: 0.0584\n",
            "Epoch 8/10\n",
            "Step 0/322 - Loss: 0.2874\n",
            "Step 100/322 - Loss: 0.2700\n",
            "Step 200/322 - Loss: 0.0766\n",
            "Step 300/322 - Loss: 0.0330\n",
            "Epoch 9/10\n",
            "Step 0/322 - Loss: 0.2724\n",
            "Step 100/322 - Loss: 0.2373\n",
            "Step 200/322 - Loss: 0.0640\n",
            "Step 300/322 - Loss: 0.0220\n",
            "Epoch 10/10\n",
            "Step 0/322 - Loss: 0.2587\n",
            "Step 100/322 - Loss: 0.2053\n",
            "Step 200/322 - Loss: 0.0562\n",
            "Step 300/322 - Loss: 0.0192\n"
          ]
        }
      ],
      "source": [
        "for epoch in range(epochs):\n",
        "    print(f\"Epoch {epoch + 1}/{epochs}\")\n",
        "    for step, (x_batch_train, y_batch_train) in enumerate(train_dataset):\n",
        "        with tf.GradientTape() as tape:\n",
        "            logits, _ = classifier(x_batch_train)\n",
        "            loss_value = loss_fn(y_batch_train, logits)\n",
        "\n",
        "        grads = tape.gradient(loss_value, classifier.trainable_weights)\n",
        "        optimizer.apply_gradients(zip(grads, classifier.trainable_weights))\n",
        "\n",
        "        if step % 100 == 0:\n",
        "            print(f\"Step {step}/{len(X_train)//64} - Loss: {loss_value.numpy():.4f}\")"
      ]
    },
    {
      "cell_type": "code",
      "execution_count": null,
      "metadata": {
        "id": "P4kVzJOEjzNY"
      },
      "outputs": [],
      "source": []
    },
    {
      "cell_type": "code",
      "execution_count": null,
      "metadata": {
        "id": "vTC_lfH8jzcv"
      },
      "outputs": [],
      "source": []
    },
    {
      "cell_type": "code",
      "execution_count": 71,
      "metadata": {
        "colab": {
          "base_uri": "https://localhost:8080/",
          "height": 594
        },
        "id": "ipw49dgqeRQv",
        "outputId": "499ea2b0-45e0-4dfa-cd74-1ee4d5699322"
      },
      "outputs": [
        {
          "name": "stdout",
          "output_type": "stream",
          "text": [
            "['twist', 'cld', 'u', 'follow', 'me', 'ill', 'love', 'u', 'forever']\n"
          ]
        },
        {
          "data": {
            "image/png": "[encoded data removed]",
            "text/plain": [
              "<Figure size 600x600 with 2 Axes>"
            ]
          },
          "metadata": {},
          "output_type": "display_data"
        }
      ],
      "source": [
        "#Let's visualize the self-attention vector\n",
        "\n",
        "def visualize_attention_weights(model, inputs, idx, tokenizer):\n",
        "    _, attention_weights = model(inputs)\n",
        "    attention_weights = tf.squeeze(attention_weights, axis=0).numpy()\n",
        "\n",
        "    words = tokenizer.sequences_to_texts(inputs.numpy())[0].split()  # Convert input sequences back to words\n",
        "    print(words)\n",
        "    fig, ax = plt.subplots(figsize=(6, 6))\n",
        "    sns.heatmap(attention_weights[:len(words), :len(words)], cmap='hot', ax=ax, xticklabels=words, yticklabels=words)\n",
        "    ax.set_title(f\"Attention Weights (Sample {idx})\")\n",
        "    plt.xticks(rotation=45, ha='right')\n",
        "    plt.yticks(rotation=0)\n",
        "    plt.show()\n",
        "\n",
        "#Attention weights\n",
        "# Visualize attention weights for a sample\n",
        "sample_index = 17\n",
        "sample_input = tf.expand_dims(X_test_tokenized[sample_index], axis=0)\n",
        "visualize_attention_weights(classifier, sample_input, sample_index, tokenizer)\n"
      ]
    },
    {
      "cell_type": "code",
      "execution_count": null,
      "metadata": {
        "id": "q832UoSweRTh"
      },
      "outputs": [],
      "source": []
    },
    {
      "cell_type": "code",
      "execution_count": 72,
      "metadata": {
        "colab": {
          "base_uri": "https://localhost:8080/"
        },
        "id": "Iz9tC16SeRWn",
        "outputId": "8c1433bb-c0cd-4cb4-c9c7-044f9f58b01c"
      },
      "outputs": [
        {
          "name": "stdout",
          "output_type": "stream",
          "text": [
            "Training accuracy: 0.9696263949539059\n",
            "Test accuracy: 0.6090816475040023\n"
          ]
        }
      ],
      "source": [
        "def measure_accuracy(model, dataset):\n",
        "    correct_predictions = 0\n",
        "    total_predictions = 0\n",
        "\n",
        "    for x_batch, y_batch in dataset:\n",
        "        logits, _ = model(x_batch)\n",
        "        predicted_labels = tf.argmax(logits, axis=1)\n",
        "        correct_predictions += tf.reduce_sum(tf.cast(tf.equal(predicted_labels, y_batch), dtype=tf.int32))\n",
        "        total_predictions += x_batch.shape[0]\n",
        "\n",
        "    accuracy = correct_predictions / total_predictions\n",
        "\n",
        "    return accuracy\n",
        "\n",
        "print(f\"Training accuracy: {measure_accuracy(classifier, train_dataset).numpy()}\")\n",
        "print(f\"Test accuracy: {measure_accuracy(classifier, test_dataset).numpy()}\")"
      ]
    }
  ],
  "metadata": {
    "colab": {
      "provenance": []
    },
    "kernelspec": {
      "display_name": "Python 3",
      "name": "python3"
    },
    "language_info": {
      "name": "python"
    }
  },
  "nbformat": 4,
  "nbformat_minor": 0
}
