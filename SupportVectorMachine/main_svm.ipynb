{
 "cells": [
  {
   "cell_type": "markdown",
   "id": "7e6ede1b",
   "metadata": {},
   "source": [
    "## Classify cancer cell samples as benign (non-cancerous) or malignant (cancerous) using Support vector machine (SVM) algorithm\n",
    "### Goal:\n",
    "Our goal is to build a SVM model by training the data for human cells into benign or malignant state. The Data is from http://archive.ics.uci.edu/ml/datasets/Breast+Cancer+Wisconsin+%28Original%29.  The formatted data was downloaded from here https://s3-api.us-geo.objectstorage.softlayer.net/cf-courses-data/CognitiveClass/ML0101ENv3/labs/cell_samples.csv \n",
    "\n",
    " In SVM, the data points are classified by constructing hyperplanes between them in a higher-dimensional feature space, it is useful when the data is not linearly separable. The construction of hyperplane  depends on the choice of the kernel funnction used and is the most important model parameter you can tune. \"Kernel\" refers to a method of using linear classifier to a non-linear problem. The kernal functions maps the original non-linear observations into a higher-dimesional space which then become separable. \n",
    "\n",
    "`We shall apply various SVM kernel to explore the differences. \n",
    "Linear, Polynomial, RBF, Sigmoid\n",
    "Within kernel function, there are two regularization parameters: C and \\gamma\n",
    "Steps to model the data file \"cell_samples_for_svm.csv\"\n",
    "(1) Import python library\n",
    "(2) Description of data: shape, size, type, null\n",
    "(3) Constructing training set and test test using sci-kit library\n",
    "(4) Training model using 4 different Kernels in SVM and making inteference `\n",
    "\n",
    "## Four common kernels in SVM:\n",
    "\n",
    " | Kernel Name | Formula $K(x_{n},x_{i})$ used in Kerneling  |Optimization Parameter|\n",
    " |----------------|:----------------|:----------------|\n",
    " |  Linear    |$K(x_{n},x_{i})=(x_{n},x_{i})$  | C,$\\gamma$ |\n",
    " | Polynomial |$K(x_{n},x_{i})=(\\gamma(x_{n},x_{i})+r)^{d}$    |C,$\\gamma$ , r, $\\gamma$ |\n",
    " | RBF        |$K(x_{n},x_{i})=\\exp(-\\gamma||x_{n}-x_{i}||^{2})+C$  | C,$\\gamma$ |\n",
    " | Sigmoid    |$K(x_{n},x_{i})=\\exp(-\\gamma||x_{n}-x_{i}||^{2})+C$  | C, $\\gamma$  , r| \n",
    "  "
   ]
  },
  {
   "cell_type": "code",
   "execution_count": 293,
   "id": "bdf9fcf9",
   "metadata": {},
   "outputs": [],
   "source": [
    "#Import library\n",
    "import pandas as pd    #to manipulate data in csv in row and column format\n",
    "import numpy as np     #\n",
    "import matplotlib as mpl\n",
    "import matplotlib.pyplot as plt #\n"
   ]
  },
  {
   "cell_type": "markdown",
   "id": "614441d0",
   "metadata": {},
   "source": [
    "| Column Name   | Description  |\n",
    "| ------------- |:-------------:|\n",
    "| ID    | Cell sample ID | \n",
    "| Clump | Clump thickness |\n",
    "| UnifSize | Uniformity of cell size |\n",
    "| UnifShape | Uniformity of cell shape |\n",
    "| MargAdh | Marginal adhesion |\n",
    "|SingEpiSize | Single epithelial cell size |\n",
    "|BareNuc | Bare nuclei |\n",
    "|BlandChrom  |Bland chromatin |\n",
    "|NormNucl |Normal nucleoli |\n",
    "|Mit | Mitoses |\n",
    "|Class | Benign or malignant |\n",
    "\n",
    "(rows=699, columns=11). There are total 10 features in each cell sample and total 699 instances."
   ]
  },
  {
   "cell_type": "code",
   "execution_count": 258,
   "id": "7055bffa",
   "metadata": {},
   "outputs": [
    {
     "data": {
      "text/html": [
       "<div>\n",
       "<style scoped>\n",
       "    .dataframe tbody tr th:only-of-type {\n",
       "        vertical-align: middle;\n",
       "    }\n",
       "\n",
       "    .dataframe tbody tr th {\n",
       "        vertical-align: top;\n",
       "    }\n",
       "\n",
       "    .dataframe thead th {\n",
       "        text-align: right;\n",
       "    }\n",
       "</style>\n",
       "<table border=\"1\" class=\"dataframe\">\n",
       "  <thead>\n",
       "    <tr style=\"text-align: right;\">\n",
       "      <th></th>\n",
       "      <th>ID</th>\n",
       "      <th>Clump</th>\n",
       "      <th>UnifSize</th>\n",
       "      <th>UnifShape</th>\n",
       "      <th>MargAdh</th>\n",
       "      <th>SingEpiSize</th>\n",
       "      <th>BareNuc</th>\n",
       "      <th>BlandChrom</th>\n",
       "      <th>NormNucl</th>\n",
       "      <th>Mit</th>\n",
       "      <th>Class</th>\n",
       "    </tr>\n",
       "  </thead>\n",
       "  <tbody>\n",
       "    <tr>\n",
       "      <th>0</th>\n",
       "      <td>1000025</td>\n",
       "      <td>5</td>\n",
       "      <td>1</td>\n",
       "      <td>1</td>\n",
       "      <td>1</td>\n",
       "      <td>2</td>\n",
       "      <td>1</td>\n",
       "      <td>3</td>\n",
       "      <td>1</td>\n",
       "      <td>1</td>\n",
       "      <td>2</td>\n",
       "    </tr>\n",
       "    <tr>\n",
       "      <th>1</th>\n",
       "      <td>1002945</td>\n",
       "      <td>5</td>\n",
       "      <td>4</td>\n",
       "      <td>4</td>\n",
       "      <td>5</td>\n",
       "      <td>7</td>\n",
       "      <td>10</td>\n",
       "      <td>3</td>\n",
       "      <td>2</td>\n",
       "      <td>1</td>\n",
       "      <td>2</td>\n",
       "    </tr>\n",
       "    <tr>\n",
       "      <th>2</th>\n",
       "      <td>1015425</td>\n",
       "      <td>3</td>\n",
       "      <td>1</td>\n",
       "      <td>1</td>\n",
       "      <td>1</td>\n",
       "      <td>2</td>\n",
       "      <td>2</td>\n",
       "      <td>3</td>\n",
       "      <td>1</td>\n",
       "      <td>1</td>\n",
       "      <td>2</td>\n",
       "    </tr>\n",
       "    <tr>\n",
       "      <th>3</th>\n",
       "      <td>1016277</td>\n",
       "      <td>6</td>\n",
       "      <td>8</td>\n",
       "      <td>8</td>\n",
       "      <td>1</td>\n",
       "      <td>3</td>\n",
       "      <td>4</td>\n",
       "      <td>3</td>\n",
       "      <td>7</td>\n",
       "      <td>1</td>\n",
       "      <td>2</td>\n",
       "    </tr>\n",
       "    <tr>\n",
       "      <th>4</th>\n",
       "      <td>1017023</td>\n",
       "      <td>4</td>\n",
       "      <td>1</td>\n",
       "      <td>1</td>\n",
       "      <td>3</td>\n",
       "      <td>2</td>\n",
       "      <td>1</td>\n",
       "      <td>3</td>\n",
       "      <td>1</td>\n",
       "      <td>1</td>\n",
       "      <td>2</td>\n",
       "    </tr>\n",
       "  </tbody>\n",
       "</table>\n",
       "</div>"
      ],
      "text/plain": [
       "        ID  Clump  UnifSize  UnifShape  MargAdh  SingEpiSize BareNuc  \\\n",
       "0  1000025      5         1          1        1            2       1   \n",
       "1  1002945      5         4          4        5            7      10   \n",
       "2  1015425      3         1          1        1            2       2   \n",
       "3  1016277      6         8          8        1            3       4   \n",
       "4  1017023      4         1          1        3            2       1   \n",
       "\n",
       "   BlandChrom  NormNucl  Mit  Class  \n",
       "0           3         1    1      2  \n",
       "1           3         2    1      2  \n",
       "2           3         1    1      2  \n",
       "3           3         7    1      2  \n",
       "4           3         1    1      2  "
      ]
     },
     "metadata": {},
     "output_type": "display_data"
    },
    {
     "name": "stdout",
     "output_type": "stream",
     "text": [
      "shape (699, 11)\n",
      "Columns count=\n",
      " ID             699\n",
      "Clump          699\n",
      "UnifSize       699\n",
      "UnifShape      699\n",
      "MargAdh        699\n",
      "SingEpiSize    699\n",
      "BareNuc        699\n",
      "BlandChrom     699\n",
      "NormNucl       699\n",
      "Mit            699\n",
      "Class          699\n",
      "dtype: int64\n",
      "mode = \n",
      " 2    458\n",
      "4    241\n",
      "Name: Class, dtype: int64\n",
      "data types= \n",
      " ID              int64\n",
      "Clump           int64\n",
      "UnifSize        int64\n",
      "UnifShape       int64\n",
      "MargAdh         int64\n",
      "SingEpiSize     int64\n",
      "BareNuc        object\n",
      "BlandChrom      int64\n",
      "NormNucl        int64\n",
      "Mit             int64\n",
      "Class           int64\n",
      "dtype: object\n"
     ]
    },
    {
     "data": {
      "text/plain": [
       "ID             0\n",
       "Clump          0\n",
       "UnifSize       0\n",
       "UnifShape      0\n",
       "MargAdh        0\n",
       "SingEpiSize    0\n",
       "BareNuc        0\n",
       "BlandChrom     0\n",
       "NormNucl       0\n",
       "Mit            0\n",
       "Class          0\n",
       "dtype: int64"
      ]
     },
     "execution_count": 258,
     "metadata": {},
     "output_type": "execute_result"
    }
   ],
   "source": [
    "df = pd.read_csv('cell_samples_for_svm.csv')\n",
    "display(df.head())\n",
    "print(\"shape\", df.shape)\n",
    "print(\"Columns count=\\n\", df.count())\n",
    "print(\"mode = \\n\", df['Class'].value_counts())\n",
    "print(\"data types= \\n\", df.dtypes)\n",
    "\n",
    "#Check for null values\n",
    "df.isnull().sum()"
   ]
  },
  {
   "cell_type": "code",
   "execution_count": 259,
   "id": "1f08f453",
   "metadata": {},
   "outputs": [
    {
     "data": {
      "text/plain": [
       "(0.0, 12.0)"
      ]
     },
     "execution_count": 259,
     "metadata": {},
     "output_type": "execute_result"
    },
    {
     "data": {
      "image/png": "[encoded data removed]",
      "text/plain": [
       "<Figure size 540x252 with 1 Axes>"
      ]
     },
     "metadata": {
      "needs_background": "light"
     },
     "output_type": "display_data"
    }
   ],
   "source": [
    "#From above we find there are no-null entry in the data set\n",
    "#Also, we note that column='BareNuc' is non-numerical !!!\n",
    "#Visualize Size and shape of benign and malignant cells\n",
    "benign_df = df[df['Class']==2]\n",
    "malignant_df = df[df['Class']==4]\n",
    "axes_0 = benign_df.plot( x='Clump',y='UnifSize', \n",
    "                        color='blue', marker='o', markersize=10,linewidth=0,\n",
    "                         label='Benign')\n",
    "malignant_df.plot( x='Clump',y='UnifSize', linewidth=0,\n",
    "                        color='red', marker='v',  markersize=15, markerfacecolor='none', label='Malignant', ax=axes_0)\n",
    "axes_0.set_ylim(0,15)\n",
    "axes_0.set_xlim(0,12)"
   ]
  },
  {
   "cell_type": "code",
   "execution_count": 291,
   "id": "d1572924",
   "metadata": {},
   "outputs": [
    {
     "data": {
      "text/plain": [
       "Text(0, 0.5, 'Uniformity of cell size for benign')"
      ]
     },
     "execution_count": 291,
     "metadata": {},
     "output_type": "execute_result"
    },
    {
     "data": {
      "image/png": "[encoded data removed]",
      "text/plain": [
       "<Figure size 540x252 with 2 Axes>"
      ]
     },
     "metadata": {
      "needs_background": "light"
     },
     "output_type": "display_data"
    }
   ],
   "source": [
    "fig, ax=plt.subplots()\n",
    "plt.hist2d(benign_df['Clump'], benign_df['UnifSize'], bins=12, cmap='Accent_r', norm=mpl.colors.LogNorm(0.01,300))\n",
    "plt.colorbar()\n",
    "\n",
    "ax.set_ylim(0,12)\n",
    "ax.set_xlim(0,10)\n",
    "ax.set_xlabel('Clump thickness for benign')\n",
    "ax.set_ylabel('Uniformity of cell size for benign')"
   ]
  },
  {
   "cell_type": "code",
   "execution_count": 292,
   "id": "bfbdab50",
   "metadata": {},
   "outputs": [
    {
     "data": {
      "text/plain": [
       "Text(0, 0.5, 'Uniformity of cell size malignant')"
      ]
     },
     "execution_count": 292,
     "metadata": {},
     "output_type": "execute_result"
    },
    {
     "data": {
      "image/png": "[encoded data removed]",
      "text/plain": [
       "<Figure size 540x252 with 2 Axes>"
      ]
     },
     "metadata": {
      "needs_background": "light"
     },
     "output_type": "display_data"
    }
   ],
   "source": [
    "fig0, ax0=plt.subplots()\n",
    "plt.hist2d(malignant_df['Clump'], malignant_df['UnifSize'], bins=12, \n",
    "           cmap='Accent_r', norm=mpl.colors.LogNorm(0.01,300))\n",
    "plt.colorbar()\n",
    "\n",
    "ax0.set_ylim(0,12)\n",
    "ax0.set_xlim(0,12)\n",
    "ax0.set_xlabel('Clump thickness for malignant')\n",
    "ax0.set_ylabel('Uniformity of cell size malignant')"
   ]
  },
  {
   "cell_type": "code",
   "execution_count": 262,
   "id": "056bff49",
   "metadata": {},
   "outputs": [
    {
     "data": {
      "text/plain": [
       "ID             0\n",
       "Clump          0\n",
       "UnifSize       0\n",
       "UnifShape      0\n",
       "MargAdh        0\n",
       "SingEpiSize    0\n",
       "BareNuc        0\n",
       "BlandChrom     0\n",
       "NormNucl       0\n",
       "Mit            0\n",
       "Class          0\n",
       "dtype: int64"
      ]
     },
     "metadata": {},
     "output_type": "display_data"
    },
    {
     "name": "stderr",
     "output_type": "stream",
     "text": [
      "/var/folders/0_/s4qq72292hz9nrxssxh6fp140000gn/T/ipykernel_51595/2195259684.py:5: SettingWithCopyWarning: \n",
      "A value is trying to be set on a copy of a slice from a DataFrame.\n",
      "Try using .loc[row_indexer,col_indexer] = value instead\n",
      "\n",
      "See the caveats in the documentation: https://pandas.pydata.org/pandas-docs/stable/user_guide/indexing.html#returning-a-view-versus-a-copy\n",
      "  df_new['BareNuc'] = df_new['BareNuc'].astype('int')\n"
     ]
    },
    {
     "data": {
      "text/plain": [
       "ID             int64\n",
       "Clump          int64\n",
       "UnifSize       int64\n",
       "UnifShape      int64\n",
       "MargAdh        int64\n",
       "SingEpiSize    int64\n",
       "BareNuc        int64\n",
       "BlandChrom     int64\n",
       "NormNucl       int64\n",
       "Mit            int64\n",
       "Class          int64\n",
       "dtype: object"
      ]
     },
     "execution_count": 262,
     "metadata": {},
     "output_type": "execute_result"
    }
   ],
   "source": [
    "#Identify unwanted rows\n",
    "#Columns 'BareNuc' is non-numerical data\n",
    "display(df.isnull().sum())\n",
    "df_new = df[ pd.to_numeric(df['BareNuc'], errors='coerce').notnull() ]\n",
    "df_new['BareNuc'] = df_new['BareNuc'].astype('int')\n",
    "df_new.dtypes"
   ]
  },
  {
   "cell_type": "markdown",
   "id": "356797fc",
   "metadata": {},
   "source": [
    "# Import library for splitting data set into training and test set\n",
    "# from sklearn.model_selection import train_test_split"
   ]
  },
  {
   "cell_type": "code",
   "execution_count": 263,
   "id": "68bb4b55",
   "metadata": {},
   "outputs": [
    {
     "data": {
      "text/plain": [
       "Index(['ID', 'Clump', 'UnifSize', 'UnifShape', 'MargAdh', 'SingEpiSize',\n",
       "       'BareNuc', 'BlandChrom', 'NormNucl', 'Mit', 'Class'],\n",
       "      dtype='object')"
      ]
     },
     "execution_count": 263,
     "metadata": {},
     "output_type": "execute_result"
    }
   ],
   "source": [
    "df_new.columns"
   ]
  },
  {
   "cell_type": "code",
   "execution_count": 264,
   "id": "840d9264",
   "metadata": {},
   "outputs": [
    {
     "data": {
      "text/html": [
       "<div>\n",
       "<style scoped>\n",
       "    .dataframe tbody tr th:only-of-type {\n",
       "        vertical-align: middle;\n",
       "    }\n",
       "\n",
       "    .dataframe tbody tr th {\n",
       "        vertical-align: top;\n",
       "    }\n",
       "\n",
       "    .dataframe thead th {\n",
       "        text-align: right;\n",
       "    }\n",
       "</style>\n",
       "<table border=\"1\" class=\"dataframe\">\n",
       "  <thead>\n",
       "    <tr style=\"text-align: right;\">\n",
       "      <th></th>\n",
       "      <th>Clump</th>\n",
       "      <th>UnifSize</th>\n",
       "      <th>UnifShape</th>\n",
       "      <th>MargAdh</th>\n",
       "      <th>SingEpiSize</th>\n",
       "      <th>BareNuc</th>\n",
       "      <th>BlandChrom</th>\n",
       "      <th>NormNucl</th>\n",
       "      <th>Mit</th>\n",
       "    </tr>\n",
       "  </thead>\n",
       "  <tbody>\n",
       "    <tr>\n",
       "      <th>0</th>\n",
       "      <td>5</td>\n",
       "      <td>1</td>\n",
       "      <td>1</td>\n",
       "      <td>1</td>\n",
       "      <td>2</td>\n",
       "      <td>1</td>\n",
       "      <td>3</td>\n",
       "      <td>1</td>\n",
       "      <td>1</td>\n",
       "    </tr>\n",
       "    <tr>\n",
       "      <th>1</th>\n",
       "      <td>5</td>\n",
       "      <td>4</td>\n",
       "      <td>4</td>\n",
       "      <td>5</td>\n",
       "      <td>7</td>\n",
       "      <td>10</td>\n",
       "      <td>3</td>\n",
       "      <td>2</td>\n",
       "      <td>1</td>\n",
       "    </tr>\n",
       "    <tr>\n",
       "      <th>2</th>\n",
       "      <td>3</td>\n",
       "      <td>1</td>\n",
       "      <td>1</td>\n",
       "      <td>1</td>\n",
       "      <td>2</td>\n",
       "      <td>2</td>\n",
       "      <td>3</td>\n",
       "      <td>1</td>\n",
       "      <td>1</td>\n",
       "    </tr>\n",
       "    <tr>\n",
       "      <th>3</th>\n",
       "      <td>6</td>\n",
       "      <td>8</td>\n",
       "      <td>8</td>\n",
       "      <td>1</td>\n",
       "      <td>3</td>\n",
       "      <td>4</td>\n",
       "      <td>3</td>\n",
       "      <td>7</td>\n",
       "      <td>1</td>\n",
       "    </tr>\n",
       "    <tr>\n",
       "      <th>4</th>\n",
       "      <td>4</td>\n",
       "      <td>1</td>\n",
       "      <td>1</td>\n",
       "      <td>3</td>\n",
       "      <td>2</td>\n",
       "      <td>1</td>\n",
       "      <td>3</td>\n",
       "      <td>1</td>\n",
       "      <td>1</td>\n",
       "    </tr>\n",
       "  </tbody>\n",
       "</table>\n",
       "</div>"
      ],
      "text/plain": [
       "   Clump  UnifSize  UnifShape  MargAdh  SingEpiSize  BareNuc  BlandChrom  \\\n",
       "0      5         1          1        1            2        1           3   \n",
       "1      5         4          4        5            7       10           3   \n",
       "2      3         1          1        1            2        2           3   \n",
       "3      6         8          8        1            3        4           3   \n",
       "4      4         1          1        3            2        1           3   \n",
       "\n",
       "   NormNucl  Mit  \n",
       "0         1    1  \n",
       "1         2    1  \n",
       "2         1    1  \n",
       "3         7    1  \n",
       "4         1    1  "
      ]
     },
     "metadata": {},
     "output_type": "display_data"
    },
    {
     "data": {
      "text/plain": [
       "array([[ 5,  1,  1, ...,  3,  1,  1],\n",
       "       [ 5,  4,  4, ...,  3,  2,  1],\n",
       "       [ 3,  1,  1, ...,  3,  1,  1],\n",
       "       ...,\n",
       "       [ 5, 10, 10, ...,  8, 10,  2],\n",
       "       [ 4,  8,  6, ..., 10,  6,  1],\n",
       "       [ 4,  8,  8, ..., 10,  4,  1]])"
      ]
     },
     "metadata": {},
     "output_type": "display_data"
    },
    {
     "data": {
      "text/plain": [
       "(546, 9)"
      ]
     },
     "metadata": {},
     "output_type": "display_data"
    },
    {
     "data": {
      "text/plain": [
       "(137, 9)"
      ]
     },
     "metadata": {},
     "output_type": "display_data"
    }
   ],
   "source": [
    "from sklearn.model_selection import train_test_split\n",
    "#Create training data set by converting pandas data frame into numpy arrary\n",
    "#which are input to SVM function\n",
    "#Select all columns except ID and class\n",
    "df_x = df_new.iloc[:,1:-1]\n",
    "display(df_x.head())\n",
    "\n",
    "# independent variables as numpy array\n",
    "X = np.asarray(df_x)\n",
    "display(X)\n",
    "\n",
    "#dependent variables as numpy array\n",
    "y = np.asarray(df_new['Class'])\n",
    "\n",
    "#Import library for splitting data sets into training and test set\n",
    "#from sklearn.model_selection import train_test_split\n",
    "\n",
    "#Training data set X_train, y_train\n",
    "#Test data set X_test, y_test\n",
    "X_train, X_test, y_train, y_test = train_test_split(X,y, test_size=0.2, random_state=4)\n",
    "display(X_train.shape)\n",
    "display(X_test.shape)"
   ]
  },
  {
   "cell_type": "markdown",
   "id": "07802555",
   "metadata": {},
   "source": [
    "# Apply SVM algorithm from Sci-kit learn \n",
    "# Kernels are Linear, Polynomial, Radial basis function (RBF), Sigmoid"
   ]
  },
  {
   "cell_type": "code",
   "execution_count": 265,
   "id": "069230bb",
   "metadata": {},
   "outputs": [],
   "source": [
    "from sklearn import svm\n",
    "classifier_lin = svm.SVC(kernel='linear', gamma='auto', C=2)\n",
    "# penality parameter=C and gamma are tunning parameters\n",
    "classifier_lin.fit(X_train, y_train)\n",
    "y_predict_lin = classifier_lin.predict(X_test)\n",
    "\n"
   ]
  },
  {
   "cell_type": "code",
   "execution_count": 266,
   "id": "f122dd71",
   "metadata": {},
   "outputs": [],
   "source": [
    "#define a function to plot 2x2 confusion matrix\n",
    "def plot_confusion_matrix(cnf_mat, LabelS, cmap=plt.cm.Blues):\n",
    "    plt.imshow(cnf_mat, interpolation='nearest', cmap=cmap)\n",
    "    plt.colorbar()\n",
    "    plt.tight_layout()\n",
    "    plt.ylabel('True label')\n",
    "    plt.xlabel('Predicted label')\n",
    "    tick_marks = np.arange(len(LabelS))\n",
    "    plt.xticks(tick_marks, LabelS, rotation=45)\n",
    "    plt.yticks(tick_marks, LabelS)\n",
    "    for i  in range(0,2):\n",
    "        for j in range(0,2):\n",
    "            plt.text(i,j,cnf_mat[i][j])\n",
    "\n",
    "#Retrive classification report and consfusion matrix\n",
    "from sklearn.metrics import classification_report, confusion_matrix\n",
    "def EvaluateModel(y_test, y_predict):\n",
    "    print( classification_report(y_test, y_predict) )\n",
    "    cnf_mat = confusion_matrix(y_test, y_predict, labels=[2,4])\n",
    "    print(cnf_mat)\n",
    "    plot_confusion_matrix(cnf_mat, LabelS=['Benign(2)','Malignant(4)'])\n"
   ]
  },
  {
   "cell_type": "code",
   "execution_count": 267,
   "id": "d3472f75",
   "metadata": {},
   "outputs": [
    {
     "name": "stdout",
     "output_type": "stream",
     "text": [
      "              precision    recall  f1-score   support\n",
      "\n",
      "           2       1.00      0.94      0.97        90\n",
      "           4       0.90      1.00      0.95        47\n",
      "\n",
      "    accuracy                           0.96       137\n",
      "   macro avg       0.95      0.97      0.96       137\n",
      "weighted avg       0.97      0.96      0.96       137\n",
      "\n",
      "[[85  5]\n",
      " [ 0 47]]\n"
     ]
    },
    {
     "data": {
      "image/png": "[encoded data removed]",
      "text/plain": [
       "<Figure size 540x252 with 2 Axes>"
      ]
     },
     "metadata": {
      "needs_background": "light"
     },
     "output_type": "display_data"
    }
   ],
   "source": [
    "# Kernel function 'Linear'\n",
    "EvaluateModel(y_test, y_predict_lin) \n",
    "\n"
   ]
  },
  {
   "cell_type": "code",
   "execution_count": 268,
   "id": "268e6dbc",
   "metadata": {},
   "outputs": [
    {
     "name": "stdout",
     "output_type": "stream",
     "text": [
      "              precision    recall  f1-score   support\n",
      "\n",
      "           2       0.98      0.97      0.97        90\n",
      "           4       0.94      0.96      0.95        47\n",
      "\n",
      "    accuracy                           0.96       137\n",
      "   macro avg       0.96      0.96      0.96       137\n",
      "weighted avg       0.96      0.96      0.96       137\n",
      "\n",
      "[[87  3]\n",
      " [ 2 45]]\n"
     ]
    },
    {
     "data": {
      "image/png": "[encoded data removed]",
      "text/plain": [
       "<Figure size 540x252 with 2 Axes>"
      ]
     },
     "metadata": {
      "needs_background": "light"
     },
     "output_type": "display_data"
    }
   ],
   "source": [
    "# Kernel function 'Polynomial'    \n",
    "classifier_poly = svm.SVC(kernel='poly', degree=8)\n",
    "classifier_poly.fit(X_train, y_train)\n",
    "y_predict_poly = classifier_poly.predict(X_test) \n",
    "EvaluateModel(y_test, y_predict_poly) "
   ]
  },
  {
   "cell_type": "code",
   "execution_count": 287,
   "id": "6c4089ad",
   "metadata": {},
   "outputs": [
    {
     "name": "stdout",
     "output_type": "stream",
     "text": [
      "              precision    recall  f1-score   support\n",
      "\n",
      "           2       1.00      0.94      0.97        90\n",
      "           4       0.90      1.00      0.95        47\n",
      "\n",
      "    accuracy                           0.96       137\n",
      "   macro avg       0.95      0.97      0.96       137\n",
      "weighted avg       0.97      0.96      0.96       137\n",
      "\n",
      "[[85  5]\n",
      " [ 0 47]]\n"
     ]
    },
    {
     "data": {
      "image/png": "[encoded data removed]",
      "text/plain": [
       "<Figure size 540x252 with 2 Axes>"
      ]
     },
     "metadata": {
      "needs_background": "light"
     },
     "output_type": "display_data"
    }
   ],
   "source": [
    "# Kernel function 'rbf'    \n",
    "classifier_rbf = svm.SVC(kernel='rbf', C=20, gamma='scale')  #gamma is 'scale'(default), 'auto', or float\n",
    "classifier_rbf.fit(X_train, y_train)\n",
    "y_predict_rbf = classifier_rbf.predict(X_test) \n",
    "EvaluateModel(y_test, y_predict_rbf) "
   ]
  },
  {
   "cell_type": "markdown",
   "id": "6933f2b1",
   "metadata": {},
   "source": [
    "# Sigmoid function is defined as\n",
    "$\\sigma (x) = \\frac{1}{1+e^{-x}}$"
   ]
  },
  {
   "cell_type": "code",
   "execution_count": 277,
   "id": "19be49d2",
   "metadata": {},
   "outputs": [
    {
     "name": "stdout",
     "output_type": "stream",
     "text": [
      "              precision    recall  f1-score   support\n",
      "\n",
      "           2       0.53      0.60      0.57        90\n",
      "           4       0.00      0.00      0.00        47\n",
      "\n",
      "    accuracy                           0.39       137\n",
      "   macro avg       0.27      0.30      0.28       137\n",
      "weighted avg       0.35      0.39      0.37       137\n",
      "\n",
      "[[54 36]\n",
      " [47  0]]\n"
     ]
    },
    {
     "data": {
      "image/png": "[encoded data removed]",
      "text/plain": [
       "<Figure size 540x252 with 2 Axes>"
      ]
     },
     "metadata": {
      "needs_background": "light"
     },
     "output_type": "display_data"
    }
   ],
   "source": [
    "# Kernel function 'Sigmoid'    \n",
    "classifier_sgmd = svm.SVC(kernel='sigmoid', C=1,gamma='scale')\n",
    "classifier_sgmd.fit(X_train, y_train)\n",
    "y_predict_sgmd = classifier_sgmd.predict(X_test) \n",
    "EvaluateModel(y_test, y_predict_sgmd) "
   ]
  },
  {
   "cell_type": "markdown",
   "id": "6a61bd51",
   "metadata": {},
   "source": [
    "### In above analysis we find that sigmoid kernel gives poorest accuracy. While linear, polynomial with degree=8, and RBF gives same accuracy."
   ]
  },
  {
   "cell_type": "code",
   "execution_count": null,
   "id": "6eb69e3f",
   "metadata": {},
   "outputs": [],
   "source": []
  }
 ],
 "metadata": {
  "kernelspec": {
   "display_name": "Python 3 (ipykernel)",
   "language": "python",
   "name": "python3"
  },
  "language_info": {
   "codemirror_mode": {
    "name": "ipython",
    "version": 3
   },
   "file_extension": ".py",
   "mimetype": "text/x-python",
   "name": "python",
   "nbconvert_exporter": "python",
   "pygments_lexer": "ipython3",
   "version": "3.9.12"
  }
 },
 "nbformat": 4,
 "nbformat_minor": 5
}
